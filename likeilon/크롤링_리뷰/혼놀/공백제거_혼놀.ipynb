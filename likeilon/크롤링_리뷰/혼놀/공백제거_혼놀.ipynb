{
 "cells": [
  {
   "cell_type": "code",
   "execution_count": 2,
   "id": "d0c9e138-20de-4586-a270-556a96aeb2cb",
   "metadata": {},
   "outputs": [
    {
     "name": "stdout",
     "output_type": "stream",
     "text": [
      "전처리 완료: C:\\Users\\ASUS\\likelion\\likeilon\\크롤링_리뷰\\혼놀\\덕양구_혼놀_리뷰정보_전처리.csv\n",
      "전처리 완료: C:\\Users\\ASUS\\likelion\\likeilon\\크롤링_리뷰\\혼놀\\은평구_혼놀_리뷰정보_전처리.csv\n",
      "전처리 완료: C:\\Users\\ASUS\\likelion\\likeilon\\크롤링_리뷰\\혼놀\\일산동구_혼놀_리뷰정보_전처리.csv\n",
      "전처리 완료: C:\\Users\\ASUS\\likelion\\likeilon\\크롤링_리뷰\\혼놀\\일산서구_혼놀_리뷰정보_전처리.csv\n",
      "모든 파일 전처리 완료!\n"
     ]
    }
   ],
   "source": [
    "import pandas as pd\n",
    "import os\n",
    "import glob\n",
    "\n",
    "# 1. CSV 파일이 있는 폴더 경로\n",
    "folder_path = r\"C:\\Users\\ASUS\\likelion\\likeilon\\크롤링_리뷰\\혼놀\"\n",
    "\n",
    "# 2. 폴더 내 모든 CSV 파일 처리\n",
    "for file_path in glob.glob(os.path.join(folder_path, \"*.csv\")):\n",
    "    df = pd.read_csv(file_path)\n",
    "    \n",
    "    if \"reviewtxt\" in df.columns:\n",
    "        # 줄바꿈 제거\n",
    "        df[\"reviewtxt\"] = df[\"reviewtxt\"].replace(r'\\r\\n|\\r|\\n', ' ', regex=True)\n",
    "    \n",
    "    # 저장 경로 (파일명에 _전처리 추가)\n",
    "    file_name = os.path.splitext(os.path.basename(file_path))[0]\n",
    "    output_path = os.path.join(folder_path, f\"{file_name}_전처리.csv\")\n",
    "    \n",
    "    df.to_csv(output_path, index=False, encoding='utf-8-sig')\n",
    "    print(f\"전처리 완료: {output_path}\")\n",
    "\n",
    "print(\"모든 파일 전처리 완료!\")\n"
   ]
  },
  {
   "cell_type": "code",
   "execution_count": null,
   "id": "f6ab1e38-78d7-436c-9761-b63254f4a971",
   "metadata": {},
   "outputs": [],
   "source": []
  }
 ],
 "metadata": {
  "kernelspec": {
   "display_name": "Python 3 (ipykernel)",
   "language": "python",
   "name": "python3"
  },
  "language_info": {
   "codemirror_mode": {
    "name": "ipython",
    "version": 3
   },
   "file_extension": ".py",
   "mimetype": "text/x-python",
   "name": "python",
   "nbconvert_exporter": "python",
   "pygments_lexer": "ipython3",
   "version": "3.12.4"
  }
 },
 "nbformat": 4,
 "nbformat_minor": 5
}
